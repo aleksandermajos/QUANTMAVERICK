{
 "cells": [
  {
   "cell_type": "code",
   "execution_count": 1,
   "metadata": {},
   "outputs": [],
   "source": [
    "inputs = [ 1 , 2 , 3 , 2.5 ]\n",
    "weights1 = [ 0.2 , 0.8 , - 0.5 , 1 ]\n",
    "weights2 = [ 0.5 , - 0.91 , 0.26 , - 0.5 ]\n",
    "weights3 = [ - 0.26 , - 0.27 , 0.17 , 0.87 ]\n",
    "bias1 = 2\n",
    "bias2 = 3\n",
    "bias3 = 0.5"
   ]
  },
  {
   "cell_type": "code",
   "execution_count": 2,
   "metadata": {},
   "outputs": [],
   "source": [
    "outputs = [\n",
    "# Neuron 1:\n",
    "inputs[ 0 ] * weights1[ 0 ] +\n",
    "inputs[ 1 ] * weights1[ 1 ] +\n",
    "inputs[ 2 ] * weights1[ 2 ] +\n",
    "inputs[ 3 ] * weights1[ 3 ] + bias1,\n",
    "# Neuron 2:\n",
    "inputs[ 0 ] * weights2[ 0 ] +\n",
    "inputs[ 1 ] * weights2[ 1 ] +\n",
    "inputs[ 2 ] * weights2[ 2 ] +\n",
    "inputs[ 3 ] * weights2[ 3 ] + bias2,\n",
    "# Neuron 3:\n",
    "inputs[ 0 ] * weights3[ 0 ] +\n",
    "inputs[ 1 ] * weights3[ 1 ] +\n",
    "inputs[ 2 ] * weights3[ 2 ] +\n",
    "inputs[ 3 ] * weights3[ 3 ] + bias3]"
   ]
  },
  {
   "cell_type": "code",
   "execution_count": 3,
   "metadata": {},
   "outputs": [
    {
     "data": {
      "text/plain": [
       "[4.8, 1.21, 2.385]"
      ]
     },
     "execution_count": 3,
     "metadata": {},
     "output_type": "execute_result"
    }
   ],
   "source": [
    "outputs"
   ]
  },
  {
   "cell_type": "code",
   "execution_count": null,
   "metadata": {},
   "outputs": [],
   "source": []
  }
 ],
 "metadata": {
  "kernelspec": {
   "display_name": "Python 3",
   "language": "python",
   "name": "python3"
  },
  "language_info": {
   "codemirror_mode": {
    "name": "ipython",
    "version": 3
   },
   "file_extension": ".py",
   "mimetype": "text/x-python",
   "name": "python",
   "nbconvert_exporter": "python",
   "pygments_lexer": "ipython3",
   "version": "3.8.5"
  }
 },
 "nbformat": 4,
 "nbformat_minor": 4
}
