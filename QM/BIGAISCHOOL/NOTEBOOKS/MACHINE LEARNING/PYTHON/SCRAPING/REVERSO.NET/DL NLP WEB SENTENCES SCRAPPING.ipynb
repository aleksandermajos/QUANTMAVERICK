{
 "cells": [
  {
   "cell_type": "code",
   "execution_count": 1,
   "metadata": {},
   "outputs": [],
   "source": [
    "import requests\n",
    "from bs4 import BeautifulSoup"
   ]
  },
  {
   "cell_type": "code",
   "execution_count": 2,
   "metadata": {},
   "outputs": [],
   "source": [
    "req = requests.get(\"https://context.reverso.net/translation/german-english/ verschwenden\", headers={'User-Agent': 'Mozilla/5.0'})"
   ]
  },
  {
   "cell_type": "code",
   "execution_count": 3,
   "metadata": {},
   "outputs": [],
   "source": [
    "soup = BeautifulSoup(req.text, 'html.parser')"
   ]
  },
  {
   "cell_type": "code",
   "execution_count": 4,
   "metadata": {},
   "outputs": [],
   "source": [
    "sentences = [x.text.strip() for x in soup.find_all('span', {'class':'text'}) if '\\n' in x.text]"
   ]
  },
  {
   "cell_type": "code",
   "execution_count": 5,
   "metadata": {},
   "outputs": [
    {
     "data": {
      "text/plain": [
       "['Wir verschwenden jährlich Unmengen an Energie.',\n",
       " 'We waste a tremendous amount of energy every year.',\n",
       " 'Ich will keine Tasse Kaffee verschwenden.',\n",
       " \"Don't want to waste a cup of coffee.\",\n",
       " 'Möchte keine Zeit in der Definitionsphase des Projekts verschwenden',\n",
       " 'Does not want to spend time in the definition phase of the project',\n",
       " 'Die Deutschen würden niemals so viel Arbeitskraft verschwenden.',\n",
       " 'The Germans would never squander a huge labor force like this.',\n",
       " 'Sie dürfen das Geld nicht verschwenden.',\n",
       " \"But you mustn't just squander the money.\",\n",
       " 'Sie wollten unsere Zeit nicht verschwenden.',\n",
       " \"(Joy) They didn't want her wasting our time.\",\n",
       " 'Ich soll doch keine Ressourcen verschwenden.',\n",
       " \"You said you didn't want me wasting resources.\",\n",
       " 'Aber es würde wertvolle Wahlkampfgelder verschwenden.',\n",
       " 'But it would be a waste of valuable campaign funds.',\n",
       " 'Eine Schande diese Macht zu verschwenden.',\n",
       " 'It seems a pity to waste such power.',\n",
       " 'Ich will keine weitere Sekunde ohne dich verschwenden.',\n",
       " \"I don't want to waste another second without you.\",\n",
       " 'Kein Einsatz verschwenden dieses Baby nur herumliegen Haus.',\n",
       " 'No use wasting this baby just lying around the house.',\n",
       " 'Ich will keine weitere Minute verschwenden.',\n",
       " \"I don't want to waste another minute.\",\n",
       " 'Aber du musst deinen Tod nicht verschwenden.',\n",
       " \"But you don't have to waste your death.\",\n",
       " 'So können Aktivitäten wirkungsvoll ausgeführt werden, ohne Energie zu verschwenden.',\n",
       " 'This ensures that all activities can be carried out efficiently without wasting energy.',\n",
       " 'Ich werde keine Zeit mit Gegenargumenten verschwenden.',\n",
       " 'I will not waste time trying to reverse that decision.',\n",
       " 'Ich will die Batterie nicht verschwenden.',\n",
       " \"I don't want to waste the batteries.\",\n",
       " 'Sie wollen wahrscheinlich nicht Ihre Zeit damit verschwenden.',\n",
       " \"You probably don't want to waste your time with this.\",\n",
       " 'Ich möchte keinen Samstagabend mit Videos ansehen verschwenden.',\n",
       " \"I don't want to waste a Saturday night watching some video.\",\n",
       " 'Dass manche Menschen ihre Zeit in Yellowstone verschwenden.',\n",
       " 'And to think some people waste their time going to Yellowstone.',\n",
       " 'Ich wollte das Essen nicht verschwenden.',\n",
       " \"I didn't want the food to go to waste.\"]"
      ]
     },
     "execution_count": 5,
     "metadata": {},
     "output_type": "execute_result"
    }
   ],
   "source": [
    "sentences"
   ]
  },
  {
   "cell_type": "code",
   "execution_count": null,
   "metadata": {},
   "outputs": [],
   "source": []
  },
  {
   "cell_type": "code",
   "execution_count": null,
   "metadata": {},
   "outputs": [],
   "source": []
  }
 ],
 "metadata": {
  "kernelspec": {
   "display_name": "Python 3",
   "language": "python",
   "name": "python3"
  },
  "language_info": {
   "codemirror_mode": {
    "name": "ipython",
    "version": 3
   },
   "file_extension": ".py",
   "mimetype": "text/x-python",
   "name": "python",
   "nbconvert_exporter": "python",
   "pygments_lexer": "ipython3",
   "version": "3.8.2"
  }
 },
 "nbformat": 4,
 "nbformat_minor": 2
}
