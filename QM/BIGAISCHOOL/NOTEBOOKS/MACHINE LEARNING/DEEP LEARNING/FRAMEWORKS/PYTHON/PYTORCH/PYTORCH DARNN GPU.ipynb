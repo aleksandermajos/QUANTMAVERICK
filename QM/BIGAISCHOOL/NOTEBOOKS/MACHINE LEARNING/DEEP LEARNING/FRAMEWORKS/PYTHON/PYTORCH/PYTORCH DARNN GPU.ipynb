{
 "cells": [
  {
   "cell_type": "code",
   "execution_count": 2,
   "metadata": {
    "pycharm": {
     "name": "#%%\n"
    }
   },
   "outputs": [
    {
     "ename": "ModuleNotFoundError",
     "evalue": "No module named 'QM'",
     "output_type": "error",
     "traceback": [
      "\u001B[1;31m---------------------------------------------------------------------------\u001B[0m",
      "\u001B[1;31mModuleNotFoundError\u001B[0m                       Traceback (most recent call last)",
      "\u001B[1;32m<ipython-input-2-102ee388bdfd>\u001B[0m in \u001B[0;36m<module>\u001B[1;34m\u001B[0m\n\u001B[0;32m      8\u001B[0m \u001B[1;32mfrom\u001B[0m \u001B[0mDARNN\u001B[0m \u001B[1;32mimport\u001B[0m \u001B[0mDARNN\u001B[0m\u001B[1;33m\u001B[0m\u001B[1;33m\u001B[0m\u001B[0m\n\u001B[0;32m      9\u001B[0m \u001B[1;32mfrom\u001B[0m \u001B[0mTrain\u001B[0m \u001B[1;32mimport\u001B[0m \u001B[0mTrain_DARNN\u001B[0m\u001B[1;33m\u001B[0m\u001B[1;33m\u001B[0m\u001B[0m\n\u001B[1;32m---> 10\u001B[1;33m \u001B[1;32mfrom\u001B[0m \u001B[0mDataGenerator\u001B[0m \u001B[1;32mimport\u001B[0m \u001B[0mOandaDataGenerator\u001B[0m\u001B[1;33m\u001B[0m\u001B[1;33m\u001B[0m\u001B[0m\n\u001B[0m\u001B[0;32m     11\u001B[0m \u001B[0mdg\u001B[0m \u001B[1;33m=\u001B[0m \u001B[0mOandaDataGenerator\u001B[0m\u001B[1;33m(\u001B[0m\u001B[1;33m)\u001B[0m\u001B[1;33m\u001B[0m\u001B[1;33m\u001B[0m\u001B[0m\n\u001B[0;32m     12\u001B[0m \u001B[1;32mfrom\u001B[0m \u001B[0mDataPreparator\u001B[0m \u001B[1;32mimport\u001B[0m \u001B[0mPyTorchDataPreparator\u001B[0m\u001B[1;33m\u001B[0m\u001B[1;33m\u001B[0m\u001B[0m\n",
      "\u001B[1;32m~\\PycharmProjects\\quantmaverick\\QM\\DATA\\DataGenerator.py\u001B[0m in \u001B[0;36m<module>\u001B[1;34m\u001B[0m\n\u001B[1;32m----> 1\u001B[1;33m \u001B[1;32mfrom\u001B[0m \u001B[0mQM\u001B[0m\u001B[1;33m.\u001B[0m\u001B[0mDATA\u001B[0m\u001B[1;33m.\u001B[0m\u001B[0mUtils\u001B[0m\u001B[1;33m.\u001B[0m\u001B[0mCredentials_Utils\u001B[0m \u001B[1;32mimport\u001B[0m \u001B[0mexampleAuth\u001B[0m\u001B[1;33m\u001B[0m\u001B[1;33m\u001B[0m\u001B[0m\n\u001B[0m\u001B[0;32m      2\u001B[0m \u001B[1;32mfrom\u001B[0m \u001B[0mQM\u001B[0m\u001B[1;33m.\u001B[0m\u001B[0mDATA\u001B[0m\u001B[1;33m.\u001B[0m\u001B[0mUtils\u001B[0m\u001B[1;33m.\u001B[0m\u001B[0mData_Utils_Generator\u001B[0m \u001B[1;32mimport\u001B[0m \u001B[0mget_history_oanda\u001B[0m\u001B[1;33m\u001B[0m\u001B[1;33m\u001B[0m\u001B[0m\n\u001B[0;32m      3\u001B[0m \u001B[1;33m\u001B[0m\u001B[0m\n\u001B[0;32m      4\u001B[0m \u001B[1;33m\u001B[0m\u001B[0m\n\u001B[0;32m      5\u001B[0m \u001B[1;32mclass\u001B[0m \u001B[0mOandaDataGenerator\u001B[0m\u001B[1;33m(\u001B[0m\u001B[1;33m)\u001B[0m\u001B[1;33m:\u001B[0m\u001B[1;33m\u001B[0m\u001B[1;33m\u001B[0m\u001B[0m\n",
      "\u001B[1;31mModuleNotFoundError\u001B[0m: No module named 'QM'"
     ]
    }
   ],
   "source": [
    "import sys, os\n",
    "parent_dir = os.getcwd()\n",
    "path = os.path.dirname(parent_dir)\n",
    "sys.path.append(path)\n",
    "sys.path.append('C:\\\\Users\\\\hapir\\\\PycharmProjects\\\\quantmaverick\\\\QM\\\\BIGAISCHOOL\\\\DEEP LEARNING\\\\ARCHITECTURES')\n",
    "sys.path.append('C:\\\\Users\\\\hapir\\\\PycharmProjects\\\\quantmaverick\\\\QM\\\\BIGAISCHOOL\\\\DEEP LEARNING\\\\TRAINING')\n",
    "sys.path.append('C:\\\\Users\\\\hapir\\\\PycharmProjects\\\\quantmaverick\\\\QM\\\\DATA')\n",
    "from DARNN import DARNN\n",
    "from Train import Train_DARNN\n",
    "from DataGenerator import OandaDataGenerator\n",
    "dg = OandaDataGenerator()\n",
    "from DataPreparator import PyTorchDataPreparator"
   ]
  },
  {
   "cell_type": "code",
   "execution_count": 2,
   "metadata": {},
   "outputs": [],
   "source": [
    "data = dg.GetData(\"2018-01-01T00:00:00Z\",\"2020-02-14T00:00:00Z\",\"EUR_USD\",\"H12\",\"DF\")\n",
    "to_remove = [\"time\",\"volume\"]\n",
    "data = data[data.columns.difference(to_remove)]\n",
    "pdp = PyTorchDataPreparator(data)\n",
    "data_prepared = pdp.GetDataPrepared(128,16,80,10,10,\"O\")"
   ]
  },
  {
   "cell_type": "code",
   "execution_count": null,
   "metadata": {
    "pycharm": {
     "is_executing": true
    }
   },
   "outputs": [
    {
     "name": "stdout",
     "output_type": "stream",
     "text": [
      "Saving...\n",
      "Iter:  0 train:  0.383491515308829 val:  0.23460962155151624\n",
      "mse:  0.0013705833 mae:  0.036413424\n",
      "Iter:  1 train:  0.2649233677664704 val:  0.4401973272134143\n",
      "Iter:  2 train:  0.2594472338004042 val:  0.3173081178067651\n",
      "Iter:  3 train:  0.241004923966118 val:  0.2671892305507722\n",
      "Iter:  4 train:  0.23073128983313818 val:  0.2939762973613385\n",
      "Iter:  5 train:  0.2139274667403221 val:  0.31080235462824873\n",
      "Saving...\n",
      "Iter:  6 train:  0.1813778540853838 val:  0.22076785564625373\n",
      "Saving...\n",
      "Iter:  7 train:  0.10825476208508503 val:  0.08233593657102946\n",
      "Saving...\n",
      "Iter:  8 train:  0.09051089571804548 val:  0.052277261581875095\n",
      "Iter:  9 train:  0.07408691765862742 val:  0.10567280667943556\n",
      "Iter:  10 train:  0.06816689429992699 val:  0.11768827728150534\n",
      "mse:  0.00034488953 mae:  0.017751966\n",
      "Iter:  11 train:  0.0640440009967623 val:  0.08394247773178186\n",
      "Iter:  12 train:  0.06060104278825466 val:  0.06447958764227427\n",
      "Iter:  13 train:  0.05960434486563398 val:  0.06800437095233952\n",
      "Iter:  14 train:  0.05791069736955984 val:  0.07530062286519398\n",
      "Iter:  15 train:  0.05640887957795566 val:  0.06880394244491789\n",
      "Iter:  16 train:  0.05545502369492536 val:  0.06077375128537894\n",
      "Iter:  17 train:  0.05507584953127076 val:  0.0567870856766393\n",
      "Iter:  18 train:  0.05432846586922778 val:  0.058333063373338365\n",
      "Iter:  19 train:  0.05349323106970437 val:  0.05287132758464758\n"
     ]
    }
   ],
   "source": [
    "model = DARNN(data_prepared['X_train'].shape[2], 64, 64, data_prepared['X_train'].shape[1]).cuda()\n",
    "Train_DARNN(model, data_prepared, 144, 'DARNN_EURUSD_H12.pt')"
   ]
  }
 ],
 "metadata": {
  "kernelspec": {
   "display_name": "Python 3",
   "language": "python",
   "name": "python3"
  },
  "language_info": {
   "codemirror_mode": {
    "name": "ipython",
    "version": 3
   },
   "file_extension": ".py",
   "mimetype": "text/x-python",
   "name": "python",
   "nbconvert_exporter": "python",
   "pygments_lexer": "ipython3",
   "version": "3.7.5"
  }
 },
 "nbformat": 4,
 "nbformat_minor": 2
}