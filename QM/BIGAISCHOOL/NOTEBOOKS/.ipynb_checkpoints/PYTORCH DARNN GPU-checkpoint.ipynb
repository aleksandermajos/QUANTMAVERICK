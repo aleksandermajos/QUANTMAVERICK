{
 "cells": [
  {
   "cell_type": "code",
   "execution_count": 2,
   "metadata": {},
   "outputs": [
    {
     "ename": "ImportError",
     "evalue": "attempted relative import with no known parent package",
     "output_type": "error",
     "traceback": [
      "\u001b[1;31m---------------------------------------------------------------------------\u001b[0m",
      "\u001b[1;31mImportError\u001b[0m                               Traceback (most recent call last)",
      "\u001b[1;32m<ipython-input-2-f066a3fe551a>\u001b[0m in \u001b[0;36m<module>\u001b[1;34m\u001b[0m\n\u001b[1;32m----> 1\u001b[1;33m \u001b[1;32mfrom\u001b[0m \u001b[1;33m.\u001b[0m\u001b[0mQM\u001b[0m\u001b[1;33m.\u001b[0m\u001b[0mDATA\u001b[0m\u001b[1;33m.\u001b[0m\u001b[0mDataGenerator\u001b[0m \u001b[1;32mimport\u001b[0m \u001b[0mOandaDataGenerator\u001b[0m\u001b[1;33m\u001b[0m\u001b[1;33m\u001b[0m\u001b[0m\n\u001b[0m\u001b[0;32m      2\u001b[0m \u001b[0mdg\u001b[0m \u001b[1;33m=\u001b[0m \u001b[0mOandaDataGenerator\u001b[0m\u001b[1;33m(\u001b[0m\u001b[1;33m)\u001b[0m\u001b[1;33m\u001b[0m\u001b[1;33m\u001b[0m\u001b[0m\n\u001b[0;32m      3\u001b[0m \u001b[1;32mfrom\u001b[0m \u001b[1;33m.\u001b[0m\u001b[0mQM\u001b[0m\u001b[1;33m.\u001b[0m\u001b[0mDATA\u001b[0m\u001b[1;33m.\u001b[0m\u001b[0mDataPreparator\u001b[0m \u001b[1;32mimport\u001b[0m \u001b[0mPyTorchDataPreparator\u001b[0m\u001b[1;33m\u001b[0m\u001b[1;33m\u001b[0m\u001b[0m\n\u001b[0;32m      4\u001b[0m \u001b[1;32mimport\u001b[0m \u001b[0msys\u001b[0m\u001b[1;33m,\u001b[0m \u001b[0mos\u001b[0m\u001b[1;33m\u001b[0m\u001b[1;33m\u001b[0m\u001b[0m\n\u001b[0;32m      5\u001b[0m \u001b[0mparent_dir\u001b[0m \u001b[1;33m=\u001b[0m \u001b[0mos\u001b[0m\u001b[1;33m.\u001b[0m\u001b[0mgetcwd\u001b[0m\u001b[1;33m(\u001b[0m\u001b[1;33m)\u001b[0m\u001b[1;33m\u001b[0m\u001b[1;33m\u001b[0m\u001b[0m\n",
      "\u001b[1;31mImportError\u001b[0m: attempted relative import with no known parent package"
     ]
    }
   ],
   "source": [
    "from QM.DATA.DataGenerator import OandaDataGenerator\n",
    "dg = OandaDataGenerator()\n",
    "from QM.DATA.DataPreparator import PyTorchDataPreparator\n",
    "import sys, os\n",
    "parent_dir = os.getcwd()\n",
    "path = os.path.dirname(parent_dir)\n",
    "sys.path.append(path)\n",
    "sys.path.append('C:\\\\Users\\\\hapir\\\\PycharmProjects\\\\quantmaverick\\\\QM\\\\BIGAISCHOOL\\\\DEEP LEARNING\\\\ARCHITECTURES')\n",
    "sys.path.append('C:\\\\Users\\\\hapir\\\\PycharmProjects\\\\quantmaverick\\\\QM\\\\BIGAISCHOOL\\\\DEEP LEARNING\\\\TRAINING')\n",
    "from DARNN import DARNN\n",
    "from Train import Train_DARNN"
   ]
  },
  {
   "cell_type": "code",
   "execution_count": null,
   "metadata": {},
   "outputs": [],
   "source": [
    "data = dg.GetData(\"2018-01-01T00:00:00Z\",\"2020-02-14T00:00:00Z\",\"EUR_USD\",\"H12\",\"DF\")\n",
    "to_remove = [\"time\",\"volume\"]\n",
    "data = data[data.columns.difference(to_remove)]\n",
    "pdp = PyTorchDataPreparator(data)\n",
    "data_prepared = pdp.GetDataPrepared(128,16,80,10,10,\"O\")"
   ]
  },
  {
   "cell_type": "code",
   "execution_count": null,
   "metadata": {},
   "outputs": [],
   "source": [
    "model = DARNN(data_prepared['X_train'].shape[2], 64, 64, data_prepared['X_train'].shape[1]).cuda()\n",
    "Train_DARNN(model, data_prepared, 144, 'DARNN_EURUSD_H12.pt')"
   ]
  }
 ],
 "metadata": {
  "kernelspec": {
   "display_name": "Python 3",
   "language": "python",
   "name": "python3"
  },
  "language_info": {
   "codemirror_mode": {
    "name": "ipython",
    "version": 3
   },
   "file_extension": ".py",
   "mimetype": "text/x-python",
   "name": "python",
   "nbconvert_exporter": "python",
   "pygments_lexer": "ipython3",
   "version": "3.7.5"
  }
 },
 "nbformat": 4,
 "nbformat_minor": 2
}
