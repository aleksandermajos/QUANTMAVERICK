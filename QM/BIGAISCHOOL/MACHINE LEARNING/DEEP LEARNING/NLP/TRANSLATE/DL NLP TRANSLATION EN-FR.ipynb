{
 "cells": [
  {
   "cell_type": "code",
   "execution_count": null,
   "metadata": {},
   "outputs": [
    {
     "name": "stderr",
     "output_type": "stream",
     "text": [
      "Using cache found in /home/aleksander/.cache/torch/hub/pytorch_fairseq_master\n"
     ]
    },
    {
     "name": "stdout",
     "output_type": "stream",
     "text": [
      "running build_ext\n",
      "cythoning fairseq/data/data_utils_fast.pyx to fairseq/data/data_utils_fast.cpp\n",
      "cythoning fairseq/data/token_block_utils_fast.pyx to fairseq/data/token_block_utils_fast.cpp\n",
      "building 'fairseq.libbleu' extension\n",
      "creating /home/aleksander/.cache/torch/hub/pytorch_fairseq_master/build\n",
      "creating /home/aleksander/.cache/torch/hub/pytorch_fairseq_master/build/temp.linux-x86_64-3.8\n",
      "creating /home/aleksander/.cache/torch/hub/pytorch_fairseq_master/build/temp.linux-x86_64-3.8/fairseq\n",
      "creating /home/aleksander/.cache/torch/hub/pytorch_fairseq_master/build/temp.linux-x86_64-3.8/fairseq/clib\n",
      "creating /home/aleksander/.cache/torch/hub/pytorch_fairseq_master/build/temp.linux-x86_64-3.8/fairseq/clib/libbleu\n",
      "Emitting ninja build file /home/aleksander/.cache/torch/hub/pytorch_fairseq_master/build/temp.linux-x86_64-3.8/build.ninja...\n",
      "Compiling objects...\n",
      "Allowing ninja to set a default number of workers... (overridable by setting the environment variable MAX_JOBS=N)\n",
      "creating build/lib.linux-x86_64-3.8\n",
      "creating build/lib.linux-x86_64-3.8/fairseq\n",
      "g++ -pthread -shared -B /home/aleksander/anaconda3/envs/langbang/compiler_compat -L/home/aleksander/anaconda3/envs/langbang/lib -Wl,-rpath=/home/aleksander/anaconda3/envs/langbang/lib -Wl,--no-as-needed -Wl,--sysroot=/ /home/aleksander/.cache/torch/hub/pytorch_fairseq_master/build/temp.linux-x86_64-3.8/fairseq/clib/libbleu/libbleu.o /home/aleksander/.cache/torch/hub/pytorch_fairseq_master/build/temp.linux-x86_64-3.8/fairseq/clib/libbleu/module.o -o build/lib.linux-x86_64-3.8/fairseq/libbleu.cpython-38-x86_64-linux-gnu.so\n",
      "building 'fairseq.data.data_utils_fast' extension\n",
      "creating /home/aleksander/.cache/torch/hub/pytorch_fairseq_master/build/temp.linux-x86_64-3.8/fairseq/data\n",
      "Emitting ninja build file /home/aleksander/.cache/torch/hub/pytorch_fairseq_master/build/temp.linux-x86_64-3.8/build.ninja...\n",
      "Compiling objects...\n",
      "Allowing ninja to set a default number of workers... (overridable by setting the environment variable MAX_JOBS=N)\n",
      "creating build/lib.linux-x86_64-3.8/fairseq/data\n",
      "g++ -pthread -shared -B /home/aleksander/anaconda3/envs/langbang/compiler_compat -L/home/aleksander/anaconda3/envs/langbang/lib -Wl,-rpath=/home/aleksander/anaconda3/envs/langbang/lib -Wl,--no-as-needed -Wl,--sysroot=/ /home/aleksander/.cache/torch/hub/pytorch_fairseq_master/build/temp.linux-x86_64-3.8/fairseq/data/data_utils_fast.o -o build/lib.linux-x86_64-3.8/fairseq/data/data_utils_fast.cpython-38-x86_64-linux-gnu.so\n",
      "building 'fairseq.data.token_block_utils_fast' extension\n",
      "Emitting ninja build file /home/aleksander/.cache/torch/hub/pytorch_fairseq_master/build/temp.linux-x86_64-3.8/build.ninja...\n",
      "Compiling objects...\n",
      "Allowing ninja to set a default number of workers... (overridable by setting the environment variable MAX_JOBS=N)\n",
      "g++ -pthread -shared -B /home/aleksander/anaconda3/envs/langbang/compiler_compat -L/home/aleksander/anaconda3/envs/langbang/lib -Wl,-rpath=/home/aleksander/anaconda3/envs/langbang/lib -Wl,--no-as-needed -Wl,--sysroot=/ /home/aleksander/.cache/torch/hub/pytorch_fairseq_master/build/temp.linux-x86_64-3.8/fairseq/data/token_block_utils_fast.o -o build/lib.linux-x86_64-3.8/fairseq/data/token_block_utils_fast.cpython-38-x86_64-linux-gnu.so\n",
      "building 'fairseq.libnat' extension\n",
      "creating /home/aleksander/.cache/torch/hub/pytorch_fairseq_master/build/temp.linux-x86_64-3.8/fairseq/clib/libnat\n",
      "Emitting ninja build file /home/aleksander/.cache/torch/hub/pytorch_fairseq_master/build/temp.linux-x86_64-3.8/build.ninja...\n",
      "Compiling objects...\n",
      "Allowing ninja to set a default number of workers... (overridable by setting the environment variable MAX_JOBS=N)\n",
      "g++ -pthread -shared -B /home/aleksander/anaconda3/envs/langbang/compiler_compat -L/home/aleksander/anaconda3/envs/langbang/lib -Wl,-rpath=/home/aleksander/anaconda3/envs/langbang/lib -Wl,--no-as-needed -Wl,--sysroot=/ /home/aleksander/.cache/torch/hub/pytorch_fairseq_master/build/temp.linux-x86_64-3.8/fairseq/clib/libnat/edit_dist.o -L/home/aleksander/anaconda3/envs/langbang/lib/python3.8/site-packages/torch/lib -lc10 -ltorch -ltorch_cpu -ltorch_python -o build/lib.linux-x86_64-3.8/fairseq/libnat.cpython-38-x86_64-linux-gnu.so\n",
      "building 'fairseq.libnat_cuda' extension\n",
      "creating /home/aleksander/.cache/torch/hub/pytorch_fairseq_master/build/temp.linux-x86_64-3.8/fairseq/clib/libnat_cuda\n",
      "Emitting ninja build file /home/aleksander/.cache/torch/hub/pytorch_fairseq_master/build/temp.linux-x86_64-3.8/build.ninja...\n",
      "Compiling objects...\n",
      "Allowing ninja to set a default number of workers... (overridable by setting the environment variable MAX_JOBS=N)\n",
      "g++ -pthread -shared -B /home/aleksander/anaconda3/envs/langbang/compiler_compat -L/home/aleksander/anaconda3/envs/langbang/lib -Wl,-rpath=/home/aleksander/anaconda3/envs/langbang/lib -Wl,--no-as-needed -Wl,--sysroot=/ /home/aleksander/.cache/torch/hub/pytorch_fairseq_master/build/temp.linux-x86_64-3.8/fairseq/clib/libnat_cuda/edit_dist.o /home/aleksander/.cache/torch/hub/pytorch_fairseq_master/build/temp.linux-x86_64-3.8/fairseq/clib/libnat_cuda/binding.o -L/home/aleksander/anaconda3/envs/langbang/lib/python3.8/site-packages/torch/lib -lc10 -ltorch -ltorch_cpu -ltorch_python -o build/lib.linux-x86_64-3.8/fairseq/libnat_cuda.cpython-38-x86_64-linux-gnu.so\n",
      "copying build/lib.linux-x86_64-3.8/fairseq/libbleu.cpython-38-x86_64-linux-gnu.so -> fairseq\n",
      "copying build/lib.linux-x86_64-3.8/fairseq/data/data_utils_fast.cpython-38-x86_64-linux-gnu.so -> fairseq/data\n",
      "copying build/lib.linux-x86_64-3.8/fairseq/data/token_block_utils_fast.cpython-38-x86_64-linux-gnu.so -> fairseq/data\n",
      "copying build/lib.linux-x86_64-3.8/fairseq/libnat.cpython-38-x86_64-linux-gnu.so -> fairseq\n",
      "copying build/lib.linux-x86_64-3.8/fairseq/libnat_cuda.cpython-38-x86_64-linux-gnu.so -> fairseq\n"
     ]
    },
    {
     "name": "stderr",
     "output_type": "stream",
     "text": [
      "  6%|▌         | 142954496/2316140317 [01:07<17:12, 2104723.76B/s] "
     ]
    }
   ],
   "source": [
    "import torch\n",
    "\n",
    "# Load an En-Fr Transformer model trained on WMT'14 data :\n",
    "en2fr = torch.hub.load('pytorch/fairseq', 'transformer.wmt14.en-fr', tokenizer='moses', bpe='subword_nmt')\n",
    "\n",
    "# Use the GPU (optional):\n",
    "en2fr.cuda()\n",
    "\n",
    "# Translate with beam search:\n",
    "fr = en2fr.translate('Hello world!', beam=5)\n",
    "assert fr == 'Bonjour à tous !'\n",
    "\n",
    "# Manually tokenize:\n",
    "en_toks = en2fr.tokenize('Hello world!')\n",
    "assert en_toks == 'Hello world !'\n",
    "\n",
    "# Manually apply BPE:\n",
    "en_bpe = en2fr.apply_bpe(en_toks)\n",
    "assert en_bpe == 'H@@ ello world !'\n",
    "\n",
    "# Manually binarize:\n",
    "en_bin = en2fr.binarize(en_bpe)\n",
    "assert en_bin.tolist() == [329, 14044, 682, 812, 2]\n",
    "\n",
    "# Generate five translations with top-k sampling:\n",
    "fr_bin = en2fr.generate(en_bin, beam=5, sampling=True, sampling_topk=20)\n",
    "assert len(fr_bin) == 5\n",
    "\n",
    "# Convert one of the samples to a string and detokenize\n",
    "fr_sample = fr_bin[0]['tokens']\n",
    "fr_bpe = en2fr.string(fr_sample)\n",
    "fr_toks = en2fr.remove_bpe(fr_bpe)\n",
    "fr = en2fr.detokenize(fr_toks)\n",
    "assert fr == en2fr.decode(fr_sample)"
   ]
  },
  {
   "cell_type": "code",
   "execution_count": null,
   "metadata": {},
   "outputs": [],
   "source": []
  }
 ],
 "metadata": {
  "kernelspec": {
   "display_name": "Python 3",
   "language": "python",
   "name": "python3"
  },
  "language_info": {
   "codemirror_mode": {
    "name": "ipython",
    "version": 3
   },
   "file_extension": ".py",
   "mimetype": "text/x-python",
   "name": "python",
   "nbconvert_exporter": "python",
   "pygments_lexer": "ipython3",
   "version": "3.8.2"
  }
 },
 "nbformat": 4,
 "nbformat_minor": 2
}