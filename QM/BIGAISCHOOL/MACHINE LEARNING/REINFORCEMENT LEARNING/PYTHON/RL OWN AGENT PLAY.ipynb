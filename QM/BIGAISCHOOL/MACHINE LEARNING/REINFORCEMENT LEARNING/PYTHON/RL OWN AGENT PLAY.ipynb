{
 "cells": [
  {
   "cell_type": "code",
   "execution_count": 1,
   "metadata": {},
   "outputs": [],
   "source": [
    "import gym\n",
    "import Trading_env\n",
    "env = gym.make('Trading_env-v0')\n",
    "ren = env.render\n",
    "obs = env.reset()\n",
    "action_space = env.action_space\n",
    "observation_space = env.observation_space\n",
    "env.step(0)\n",
    "action_sample = env.action_space.sample()\n",
    "observation_sample = env.observation_space.sample()\n",
    "oko=5"
   ]
  },
  {
   "cell_type": "code",
   "execution_count": null,
   "metadata": {},
   "outputs": [],
   "source": []
  }
 ],
 "metadata": {
  "kernelspec": {
   "display_name": "Python 3",
   "language": "python",
   "name": "python3"
  },
  "language_info": {
   "codemirror_mode": {
    "name": "ipython",
    "version": 3
   },
   "file_extension": ".py",
   "mimetype": "text/x-python",
   "name": "python",
   "nbconvert_exporter": "python",
   "pygments_lexer": "ipython3",
   "version": "3.8.2"
  }
 },
 "nbformat": 4,
 "nbformat_minor": 4
}
